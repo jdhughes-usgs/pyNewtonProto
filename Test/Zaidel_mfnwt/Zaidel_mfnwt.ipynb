{
 "metadata": {
  "name": "",
  "signature": "sha256:684fad3fd99e99836406acb6e17ac0fb9e1247f02e63d4537fbdee00921cff98"
 },
 "nbformat": 3,
 "nbformat_minor": 0,
 "worksheets": [
  {
   "cells": [
    {
     "cell_type": "markdown",
     "metadata": {},
     "source": [
      "#Reproduction of the Zaidel Model\n"
     ]
    },
    {
     "cell_type": "code",
     "collapsed": false,
     "input": [
      "%matplotlib inline\n",
      "import numpy as np\n",
      "import matplotlib.pyplot as plt\n",
      "import os\n",
      "import sys"
     ],
     "language": "python",
     "metadata": {},
     "outputs": [],
     "prompt_number": 64
    },
    {
     "cell_type": "code",
     "collapsed": false,
     "input": [
      "#import flopy\n",
      "flopypath = '/Users/langevin/langevin/dev/flopy_site.svn/flopy_site/trunk'\n",
      "if flopypath not in sys.path:\n",
      "    sys.path.append(flopypath)\n",
      "import flopy"
     ],
     "language": "python",
     "metadata": {},
     "outputs": [],
     "prompt_number": 65
    },
    {
     "cell_type": "code",
     "collapsed": false,
     "input": [
      "#setup model parameters\n",
      "nrow = 1\n",
      "ncol = 200\n",
      "nlay = 1\n",
      "delr = 5.\n",
      "delc = 1.\n",
      "h1 = 23.\n",
      "h2 = 1.\n",
      "\n",
      "#ibound\n",
      "ibound = np.ones((nlay, nrow, ncol), dtype=np.int)\n",
      "ibound[:, :, 0] = -1\n",
      "ibound[:, :, -1] = -1\n",
      "\n",
      "#botm\n",
      "botm = 25 * np.ones((nlay + 1, nrow, ncol), dtype=np.float)\n",
      "base = 20.\n",
      "for j in xrange(ncol):\n",
      "    botm[1, :, j] = base\n",
      "    if j > 0 and j % 40 == 0:\n",
      "        base -= 5\n",
      "\n",
      "#strt\n",
      "strt = h1 * np.ones((nlay, nrow, ncol), dtype=np.float)\n",
      "strt[:, :, -1] = h2"
     ],
     "language": "python",
     "metadata": {},
     "outputs": [],
     "prompt_number": 66
    },
    {
     "cell_type": "code",
     "collapsed": false,
     "input": [
      "#make the flopy model\n",
      "mf = flopy.modflow.Modflow(modelname='zaidel', exe_name='mfnwt')\n",
      "dis = flopy.modflow.ModflowDis(mf, nlay, nrow, ncol, top=botm[0, :, :], botm=botm[1:, :, :], perlen=1, nstp=1, steady=True)\n",
      "bas = flopy.modflow.ModflowBas(mf, ibound=ibound, strt=strt)\n",
      "lpf = flopy.modflow.ModflowUpw(mf, hk=0.0001, laytyp=1)\n",
      "oc = flopy.modflow.ModflowOc(mf, words=['pbudget', 'phead', 'head', 'budget'], save_head_every=1)\n",
      "nwt = flopy.modflow.ModflowNwt(mf)\n",
      "mf.write_input()"
     ],
     "language": "python",
     "metadata": {},
     "outputs": [],
     "prompt_number": 67
    },
    {
     "cell_type": "code",
     "collapsed": false,
     "input": [
      "#help(flopy.modflow.ModflowNwt)\n",
      "mf.run_model2()"
     ],
     "language": "python",
     "metadata": {},
     "outputs": [
      {
       "metadata": {},
       "output_type": "pyout",
       "prompt_number": 68,
       "text": [
        "[True, []]"
       ]
      }
     ],
     "prompt_number": 68
    },
    {
     "cell_type": "code",
     "collapsed": false,
     "input": [
      "import flopy.utils.binaryfile as bf\n",
      "\n",
      "#Create the headfile object\n",
      "headfile = os.path.join('zaidel.hds')\n",
      "headobj = bf.HeadFile(headfile)\n",
      "times = headobj.get_times()\n",
      "print times\n",
      "head = headobj.get_data(totim=times[-1]) "
     ],
     "language": "python",
     "metadata": {},
     "outputs": [
      {
       "output_type": "stream",
       "stream": "stdout",
       "text": [
        "[1.0]\n"
       ]
      }
     ],
     "prompt_number": 69
    },
    {
     "cell_type": "code",
     "collapsed": false,
     "input": [
      "plt.plot(head[0, 0, :])\n",
      "plt.plot(botm[1, 0, :])"
     ],
     "language": "python",
     "metadata": {},
     "outputs": [
      {
       "metadata": {},
       "output_type": "pyout",
       "prompt_number": 70,
       "text": [
        "[<matplotlib.lines.Line2D at 0x107468690>]"
       ]
      },
      {
       "metadata": {},
       "output_type": "display_data",
       "png": "[encoded data removed]",
       "text": [
        "<matplotlib.figure.Figure at 0x107468e90>"
       ]
      }
     ],
     "prompt_number": 70
    },
    {
     "cell_type": "code",
     "collapsed": false,
     "input": [],
     "language": "python",
     "metadata": {},
     "outputs": [],
     "prompt_number": 70
    }
   ],
   "metadata": {}
  }
 ]
}