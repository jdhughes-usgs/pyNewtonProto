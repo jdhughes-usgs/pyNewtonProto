{
 "metadata": {
  "name": "",
  "signature": "sha256:3d7ef664934065ec1113e91dfc38617ea6956c488c31ad8138099a1c04f6d261"
 },
 "nbformat": 3,
 "nbformat_minor": 0,
 "worksheets": [
  {
   "cells": [
    {
     "cell_type": "markdown",
     "metadata": {},
     "source": [
      "#Reproduction of the Zaidel Model\n",
      "\n",
      "##MODFLOW-NWT"
     ]
    },
    {
     "cell_type": "code",
     "collapsed": false,
     "input": [
      "%matplotlib inline\n",
      "import numpy as np\n",
      "import matplotlib.pyplot as plt\n",
      "import os\n",
      "import sys\n",
      "import shutil"
     ],
     "language": "python",
     "metadata": {},
     "outputs": [],
     "prompt_number": 1
    },
    {
     "cell_type": "code",
     "collapsed": false,
     "input": [
      "#import flopy\n",
      "flopypath = '/Users/langevin/langevin/dev/flopy_site.svn/flopy_site/trunk'\n",
      "if flopypath not in sys.path:\n",
      "    sys.path.append(flopypath)\n",
      "import flopy"
     ],
     "language": "python",
     "metadata": {},
     "outputs": [],
     "prompt_number": 2
    },
    {
     "cell_type": "code",
     "collapsed": false,
     "input": [
      "#setup model parameters\n",
      "nrow = 1\n",
      "ncol = 200\n",
      "nlay = 1\n",
      "delr = 5.\n",
      "delc = 1.\n",
      "h1 = 23.\n",
      "h2 = 1.\n",
      "\n",
      "#ibound\n",
      "ibound = np.ones((nlay, nrow, ncol), dtype=np.int)\n",
      "ibound[:, :, 0] = -1\n",
      "ibound[:, :, -1] = -1\n",
      "\n",
      "#botm\n",
      "botm = 25 * np.ones((nlay + 1, nrow, ncol), dtype=np.float)\n",
      "base = 20.\n",
      "for j in xrange(ncol):\n",
      "    botm[1, :, j] = base\n",
      "    if j > 0 and j % 40 == 0:\n",
      "        base -= 5\n",
      "\n",
      "#strt\n",
      "strt = h1 * np.ones((nlay, nrow, ncol), dtype=np.float)\n",
      "strt[:, :, -1] = h2"
     ],
     "language": "python",
     "metadata": {},
     "outputs": [],
     "prompt_number": 3
    },
    {
     "cell_type": "code",
     "collapsed": false,
     "input": [
      "#make the flopy model\n",
      "modelname = 'znwt'\n",
      "mf = flopy.modflow.Modflow(modelname=modelname, exe_name='mfnwt')\n",
      "dis = flopy.modflow.ModflowDis(mf, nlay, nrow, ncol, top=botm[0, :, :], botm=botm[1:, :, :], perlen=1, nstp=1, steady=True)\n",
      "bas = flopy.modflow.ModflowBas(mf, ibound=ibound, strt=strt)\n",
      "lpf = flopy.modflow.ModflowUpw(mf, hk=0.0001, laytyp=1)\n",
      "oc = flopy.modflow.ModflowOc(mf, words=['pbudget', 'phead', 'head', 'budget'], save_head_every=1)\n",
      "nwt = flopy.modflow.ModflowNwt(mf, linmeth=2, iprnwt=1, options='COMPLEX')\n",
      "mf.write_input()\n"
     ],
     "language": "python",
     "metadata": {},
     "outputs": [],
     "prompt_number": 4
    },
    {
     "cell_type": "code",
     "collapsed": false,
     "input": [
      "#shutil.copyfile('simple.nwt', 'zaidel.nwt')\n",
      "#help(flopy.modflow.ModflowNwt)"
     ],
     "language": "python",
     "metadata": {},
     "outputs": [],
     "prompt_number": 5
    },
    {
     "cell_type": "code",
     "collapsed": false,
     "input": [
      "#help(flopy.modflow.ModflowNwt)\n",
      "try:\n",
      "    os.remove(modelname + '.hds')\n",
      "except:\n",
      "    pass\n",
      "mf.run_model2()"
     ],
     "language": "python",
     "metadata": {},
     "outputs": [
      {
       "metadata": {},
       "output_type": "pyout",
       "prompt_number": 6,
       "text": [
        "[True, []]"
       ]
      }
     ],
     "prompt_number": 6
    },
    {
     "cell_type": "code",
     "collapsed": false,
     "input": [
      "import flopy.utils.binaryfile as bf\n",
      "\n",
      "#Create the headfile object\n",
      "headfile = os.path.join(modelname +'.hds')\n",
      "headobj = bf.HeadFile(headfile)\n",
      "times = headobj.get_times()\n",
      "print times\n",
      "head = headobj.get_data(totim=times[-1]) "
     ],
     "language": "python",
     "metadata": {},
     "outputs": [
      {
       "output_type": "stream",
       "stream": "stdout",
       "text": [
        "[1.0]\n"
       ]
      }
     ],
     "prompt_number": 7
    },
    {
     "cell_type": "code",
     "collapsed": false,
     "input": [
      "plt.plot(head[0, 0, :])\n",
      "plt.plot(botm[1, 0, :])"
     ],
     "language": "python",
     "metadata": {},
     "outputs": [
      {
       "metadata": {},
       "output_type": "pyout",
       "prompt_number": 8,
       "text": [
        "[<matplotlib.lines.Line2D at 0x107677810>]"
       ]
      },
      {
       "metadata": {},
       "output_type": "display_data",
       "png": "[encoded data removed]",
       "text": [
        "<matplotlib.figure.Figure at 0x1076779d0>"
       ]
      }
     ],
     "prompt_number": 8
    },
    {
     "cell_type": "heading",
     "level": 2,
     "metadata": {},
     "source": [
      "##MODFLOW-USG\n",
      "\n",
      "These work:\n",
      "    sms = flopy.modflow.ModflowSms(mf, hiclose=1.e-5, nonlinmeth=1, linmeth=1, \n",
      "                               btol=0.7, breduc=1.1,\n",
      "                               level=3, idroptol=1)\n",
      "\n",
      "    sms = flopy.modflow.ModflowSms(mf, hiclose=1.e-5, nonlinmeth=1, linmeth=2, numtrack=0,\n",
      "                               theta=0.7, akappa=0., gamma=0., amomentum=0.)\n"
     ]
    },
    {
     "cell_type": "code",
     "collapsed": false,
     "input": [
      "#make the flopy model\n",
      "modelname = 'zusg'\n",
      "mf = flopy.modflow.Modflow(modelname=modelname, exe_name='mfusg')\n",
      "dis = flopy.modflow.ModflowDis(mf, nlay, nrow, ncol, top=botm[0, :, :], botm=botm[1:, :, :], perlen=1, nstp=1, steady=True)\n",
      "bas = flopy.modflow.ModflowBas(mf, ibound=ibound, strt=strt)\n",
      "lpf = flopy.modflow.ModflowLpf(mf, hk=0.0001, laytyp=4)\n",
      "oc = flopy.modflow.ModflowOc(mf, words=['pbudget', 'phead', 'head', 'budget'], save_head_every=1)\n",
      "sms = flopy.modflow.ModflowSms(mf, hiclose=1.e-5, nonlinmeth=1, linmeth=2, numtrack=0,\n",
      "                               theta=0.7, akappa=0., gamma=0., amomentum=0.)\n",
      "mf.write_input()"
     ],
     "language": "python",
     "metadata": {},
     "outputs": [],
     "prompt_number": 9
    },
    {
     "cell_type": "code",
     "collapsed": false,
     "input": [
      "try:\n",
      "    os.remove(modelname + '.hds')\n",
      "except:\n",
      "    pass\n",
      "mf.run_model2(silent=False)"
     ],
     "language": "python",
     "metadata": {},
     "outputs": [
      {
       "output_type": "stream",
       "stream": "stdout",
       "text": [
        "\n",
        "\n",
        "                                  MODFLOW-USG      \n",
        "\n",
        "    U.S. GEOLOGICAL SURVEY MODULAR FINITE-DIFFERENCE GROUNDWATER FLOW MODEL\n",
        "\n",
        "                             Version 1.1.00 08/23/2013                       \n",
        "\n",
        "\n",
        "\n",
        " Using NAME file: zusg.nam \n",
        "\n",
        " Run start date and time (yyyy/mm/dd hh:mm:ss): 2014/05/01 13:40:34\n",
        "\n",
        "\n",
        "\n",
        " Solving:  Stress period:     1    Time step:     1    Groundwater Flow Eqn.\n",
        "\n",
        " Run end date and time (yyyy/mm/dd hh:mm:ss): 2014/05/01 13:40:34\n",
        "\n",
        " Elapsed run time:  0.003 Seconds\n",
        "\n",
        "\n",
        "\n",
        "  Normal termination of simulation\n",
        "\n"
       ]
      },
      {
       "metadata": {},
       "output_type": "pyout",
       "prompt_number": 10,
       "text": [
        "[True, []]"
       ]
      }
     ],
     "prompt_number": 10
    },
    {
     "cell_type": "code",
     "collapsed": false,
     "input": [
      "import flopy.utils.binaryfile as bf\n",
      "\n",
      "#Create the headfile object\n",
      "headfile = os.path.join(modelname +'.hds')\n",
      "headobj = bf.HeadFile(headfile)\n",
      "times = headobj.get_times()\n",
      "print times\n",
      "head = headobj.get_data(totim=times[-1]) \n",
      "plt.plot(head[0, 0, :])\n",
      "plt.plot(botm[1, 0, :])"
     ],
     "language": "python",
     "metadata": {},
     "outputs": [
      {
       "output_type": "stream",
       "stream": "stdout",
       "text": [
        "[1.0]\n"
       ]
      },
      {
       "metadata": {},
       "output_type": "pyout",
       "prompt_number": 11,
       "text": [
        "[<matplotlib.lines.Line2D at 0x10769ce10>]"
       ]
      },
      {
       "metadata": {},
       "output_type": "display_data",
       "png": "[encoded data removed]",
       "text": [
        "<matplotlib.figure.Figure at 0x107677750>"
       ]
      }
     ],
     "prompt_number": 11
    },
    {
     "cell_type": "code",
     "collapsed": false,
     "input": [],
     "language": "python",
     "metadata": {},
     "outputs": [],
     "prompt_number": 11
    },
    {
     "cell_type": "code",
     "collapsed": false,
     "input": [],
     "language": "python",
     "metadata": {},
     "outputs": [],
     "prompt_number": 11
    },
    {
     "cell_type": "code",
     "collapsed": false,
     "input": [],
     "language": "python",
     "metadata": {},
     "outputs": [],
     "prompt_number": 11
    }
   ],
   "metadata": {}
  }
 ]
}